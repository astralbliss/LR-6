{
 "cells": [
  {
   "cell_type": "code",
   "execution_count": 1,
   "id": "c5b08c33-4596-47cf-b7d5-bffdba629794",
   "metadata": {},
   "outputs": [],
   "source": [
    "import os\n",
    "import shutil"
   ]
  },
  {
   "cell_type": "code",
   "execution_count": 3,
   "id": "05b39506-b154-4e1e-9aa0-e565b93199b1",
   "metadata": {},
   "outputs": [],
   "source": [
    "def load_config(config_file):\n",
    "    with open(config_file, 'r', encoding='utf-8') as f:\n",
    "        home_directory = f.readlines()[0]\n",
    "        return home_directory"
   ]
  },
  {
   "cell_type": "code",
   "execution_count": 14,
   "id": "cf34e22e-4d23-4408-9b57-69d92d04b590",
   "metadata": {},
   "outputs": [],
   "source": [
    "class File_Ma:\n",
    "    def __init__(self, home_directory):\n",
    "        self.home_directory = home_directory\n",
    "        self.active_directory = home_directory\n",
    "\n",
    "    def make_directory(self, directory_name):\n",
    "        '''\n",
    "        Метод, создающий директорию\n",
    "        '''\n",
    "        new_directory = os.path.join(self.active_directory, directory_name)\n",
    "        if not os.path.exists(new_directory):\n",
    "            os.makedirs(new_directory)\n",
    "            print(f\"Директория '{directory_name}' создана.\")\n",
    "        else:\n",
    "            print(f\"Директория '{directory_name}' уже существует.\")\n",
    "\n",
    "    def remove_directory(self, directory_name):\n",
    "        '''\n",
    "        Метод, удаляющий директорию\n",
    "        '''        \n",
    "        directory_to_remove = os.path.join(self.active_directory, directory_name)\n",
    "        if os.path.exists(directory_to_remove):\n",
    "            shutil.rmtree(directory_to_remove)\n",
    "            print(f\"Директория '{directory_name}' удалена.\")\n",
    "        else:\n",
    "            print(f\"Директория '{directory_name}' не найдена.\")\n",
    "\n",
    "    def switch_directory(self, directory_name):\n",
    "        '''\n",
    "        Метод, меняющий директорию\n",
    "        '''        \n",
    "        new_directory = os.path.join(self.active_directory, directory_name)\n",
    "        if os.path.isdir(new_directory):\n",
    "            if os.path.abspath(new_directory).startswith(os.path.abspath(self.home_directory)):\n",
    "                self.active_directory = new_directory\n",
    "                print(f\"Текущая директория изменена на '{self.active_directory}'.\")\n",
    "            else:\n",
    "                print(f\"'{new_directory}' нет доступа, оно за пределами домашней директории\")\n",
    "        else:\n",
    "            print(f\"Директория '{directory_name}' не найдена в '{self.active_directory}'.\")\n",
    "\n",
    "    def generate_file(self, file_name):\n",
    "        '''\n",
    "        Метод, создающий файл\n",
    "        '''\n",
    "        path_to_file = os.path.join(self.active_directory, file_name)\n",
    "        try:\n",
    "            with open(path_to_file, 'w') as file:\n",
    "                print(f\"Файл '{file_name}' создан.\")\n",
    "        except FileExistsError:\n",
    "            print(f\"Файл '{file_name}' уже существует.\")\n",
    "\n",
    "    def read_from_file(self, file_name):\n",
    "        '''\n",
    "        Метод, читающий содержимое файла\n",
    "        '''\n",
    "        path_to_file = os.path.join(self.active_directory, file_name)\n",
    "        try:\n",
    "            with open(path_to_file, 'r') as file:\n",
    "                print(file.read())\n",
    "        except FileNotFoundError:\n",
    "            print(f\"Файл '{file_name}' не найден.\")\n",
    "\n",
    "    def write_to_file(self, file_name, text_data):\n",
    "        '''\n",
    "        Метод, записывающий в файл\n",
    "        '''\n",
    "        path_to_file = os.path.join(self.active_directory, file_name)\n",
    "        with open(path_to_file, 'w') as file:\n",
    "            file.write(text_data)\n",
    "            print(f\"Данные записаны в файл '{file_name}'\")\n",
    "\n",
    "    def copy_file(self, source_name, destination_name):\n",
    "        '''\n",
    "        Метод, копирующий файл\n",
    "        '''        \n",
    "        source_path = os.path.join(self.active_directory, source_name)\n",
    "        destination_path = os.path.join(self.active_directory, destination_name)\n",
    "        try:\n",
    "            shutil.copy(source_path, destination_path)\n",
    "            print(f\"Файл '{source_name}' скопирован в '{destination_name}' успешно\")\n",
    "        except FileNotFoundError:\n",
    "            print(f\"Файл '{source_name}' не найден\")\n",
    "        except FileExistsError:\n",
    "            print(f\"Файл '{destination_name}' уже существует\")\n",
    "\n",
    "    def move_file(self, source_name, destination_name):\n",
    "        '''\n",
    "        Метод, перемещающий файл\n",
    "        ''' \n",
    "        source_path = os.path.join(self.active_directory, source_name)\n",
    "        destination_path = os.path.join(self.active_directory, destination_name)\n",
    "        try:\n",
    "            shutil.move(source_path, destination_path)\n",
    "            print(f\"Файл '{source_name}' перемещен в '{destination_name}' успешно.\")\n",
    "        except FileNotFoundError:\n",
    "            print(f\"Файл '{source_name}' не найден.\")\n",
    "        except FileExistsError:\n",
    "            print(f\"Файл '{destination_name}' уже существует.\")\n",
    "\n",
    "    def rename_file(self, old_name, new_name):\n",
    "        '''\n",
    "        Метод, переименовывающий файл\n",
    "        ''' \n",
    "        old_file_path = os.path.join(self.active_directory, old_name)\n",
    "        new_file_path = os.path.join(self.active_directory, new_name)\n",
    "        try:\n",
    "            os.rename(old_file_path, new_file_path)\n",
    "            print(f\"Файл '{old_name}' был переименован в '{new_name}' успешно.\")\n",
    "        except FileNotFoundError:\n",
    "            print(f\"Файл '{old_name}' не найден.\")\n",
    "        except FileExistsError:\n",
    "            print(f\"Файл '{new_name}' уже существует.\")"
   ]
  },
  {
   "cell_type": "code",
   "execution_count": 15,
   "id": "2105f85e-313c-4c95-b0bb-7d83b7b205c9",
   "metadata": {},
   "outputs": [
    {
     "name": "stdout",
     "output_type": "stream",
     "text": [
      "\n",
      "Текущая директория: home_directory = /Users/annagolovkina/Anna/учёба (серьёзная)/Практикум по программированию/директория\n"
     ]
    },
    {
     "name": "stdin",
     "output_type": "stream",
     "text": [
      "Введите команду (напишите 'help' для получения списка команд):  help\n"
     ]
    },
    {
     "name": "stdout",
     "output_type": "stream",
     "text": [
      "Доступные команды:\n",
      "  make_directory <directory_name>: Создать новую директорию\n",
      "  remove_directory <directory_name>: Удалить директорию\n",
      "  switch_directory <directory_name>: Переменить директорию\n",
      "  generate_file <file_name>: Создать файл\n",
      "  read_from_file <file_name>: Прочитать файл\n",
      "  write_to_file <file_name> <content>: Записать в файл\n",
      "  copy_file <source_name> <destination_name>: Копировать файл\n",
      "  move_file <source_name> <destination_name>: Переместить файл\n",
      "  rename_file <old_name> <new_name>: Переименовать файл\n",
      "  exit: Выйти из программы\n",
      "\n",
      "Текущая директория: home_directory = /Users/annagolovkina/Anna/учёба (серьёзная)/Практикум по программированию/директория\n"
     ]
    },
    {
     "name": "stdin",
     "output_type": "stream",
     "text": [
      "Введите команду (напишите 'help' для получения списка команд):  make_directory\n"
     ]
    },
    {
     "name": "stdout",
     "output_type": "stream",
     "text": [
      "Директория 'make_directory' создана.\n",
      "\n",
      "Текущая директория: home_directory = /Users/annagolovkina/Anna/учёба (серьёзная)/Практикум по программированию/директория\n"
     ]
    },
    {
     "name": "stdin",
     "output_type": "stream",
     "text": [
      "Введите команду (напишите 'help' для получения списка команд):  switch_directory\n"
     ]
    },
    {
     "name": "stdout",
     "output_type": "stream",
     "text": [
      "Директория 'switch_directory' не найдена в 'home_directory = /Users/annagolovkina/Anna/учёба (серьёзная)/Практикум по программированию/директория'.\n",
      "\n",
      "Текущая директория: home_directory = /Users/annagolovkina/Anna/учёба (серьёзная)/Практикум по программированию/директория\n"
     ]
    },
    {
     "name": "stdin",
     "output_type": "stream",
     "text": [
      "Введите команду (напишите 'help' для получения списка команд):  switch_directory /Users/annagolovkina/Anna/учёба (серьёзная)/Практикум по программированию/директория/туц\n"
     ]
    },
    {
     "name": "stdout",
     "output_type": "stream",
     "text": [
      "Директория '/users/annagolovkina/anna/учёба (серьёзная)/практикум по программированию/директория/туц' не найдена в 'home_directory = /Users/annagolovkina/Anna/учёба (серьёзная)/Практикум по программированию/директория'.\n",
      "\n",
      "Текущая директория: home_directory = /Users/annagolovkina/Anna/учёба (серьёзная)/Практикум по программированию/директория\n"
     ]
    },
    {
     "name": "stdin",
     "output_type": "stream",
     "text": [
      "Введите команду (напишите 'help' для получения списка команд):  switch_directory /Users/annagolovkina/Anna/учёба (серьёзная)/Практикум по программированию/директория/new\n"
     ]
    },
    {
     "name": "stdout",
     "output_type": "stream",
     "text": [
      "'/users/annagolovkina/anna/учёба (серьёзная)/практикум по программированию/директория/new' нет доступа, оно за пределами домашней директории\n",
      "\n",
      "Текущая директория: home_directory = /Users/annagolovkina/Anna/учёба (серьёзная)/Практикум по программированию/директория\n"
     ]
    },
    {
     "name": "stdin",
     "output_type": "stream",
     "text": [
      "Введите команду (напишите 'help' для получения списка команд):  generate_file /Users/annagolovkina/Anna/учёба (серьёзная)/Практикум по программированию/директория/anna.txt\n"
     ]
    },
    {
     "name": "stdout",
     "output_type": "stream",
     "text": [
      "Файл '/users/annagolovkina/anna/учёба (серьёзная)/практикум по программированию/директория/anna.txt' создан.\n",
      "\n",
      "Текущая директория: home_directory = /Users/annagolovkina/Anna/учёба (серьёзная)/Практикум по программированию/директория\n"
     ]
    },
    {
     "name": "stdin",
     "output_type": "stream",
     "text": [
      "Введите команду (напишите 'help' для получения списка команд):  write_to_file anna.txt 'wow'\n"
     ]
    },
    {
     "name": "stdout",
     "output_type": "stream",
     "text": [
      "Данные записаны в файл 'anna.txt'\n",
      "\n",
      "Текущая директория: home_directory = /Users/annagolovkina/Anna/учёба (серьёзная)/Практикум по программированию/директория\n"
     ]
    },
    {
     "name": "stdin",
     "output_type": "stream",
     "text": [
      "Введите команду (напишите 'help' для получения списка команд):  read_from_file anna.txt\n"
     ]
    },
    {
     "name": "stdout",
     "output_type": "stream",
     "text": [
      "'wow'\n",
      "\n",
      "Текущая директория: home_directory = /Users/annagolovkina/Anna/учёба (серьёзная)/Практикум по программированию/директория\n"
     ]
    },
    {
     "name": "stdin",
     "output_type": "stream",
     "text": [
      "Введите команду (напишите 'help' для получения списка команд):  exit\n"
     ]
    },
    {
     "name": "stdout",
     "output_type": "stream",
     "text": [
      "Выход из программы\n"
     ]
    }
   ],
   "source": [
    "if __name__ == \"__main__\":\n",
    "    settings_file = 'path.txt'\n",
    "    if not os.path.exists(settings_file):\n",
    "        print(f\"Файл настроек '{settings_file}' не найден\")\n",
    "    else:\n",
    "        dirHandler = DirectoryHandler(load_config(settings_file))\n",
    "\n",
    "        while True:\n",
    "            print(\"\\nТекущая директория:\", dirHandler.active_directory)\n",
    "            cmd = input(\"Введите команду (напишите 'help' для получения списка команд): \").strip().lower()\n",
    "\n",
    "            if cmd == 'help':\n",
    "                print(\"Доступные команды:\")\n",
    "                print(\"  make_directory <directory_name>: Создать новую директорию\")\n",
    "                print(\"  remove_directory <directory_name>: Удалить директорию\")\n",
    "                print(\"  switch_directory <directory_name>: Переменить директорию\")\n",
    "                print(\"  generate_file <file_name>: Создать файл\")\n",
    "                print(\"  read_from_file <file_name>: Прочитать файл\")\n",
    "                print(\"  write_to_file <file_name> <content>: Записать в файл\")\n",
    "                print(\"  copy_file <source_name> <destination_name>: Копировать файл\")\n",
    "                print(\"  move_file <source_name> <destination_name>: Переместить файл\")\n",
    "                print(\"  rename_file <old_name> <new_name>: Переименовать файл\")\n",
    "                print(\"  exit: Выйти из программы\")\n",
    "\n",
    "            elif cmd.startswith('make_directory'):\n",
    "                directory_name = cmd.split(' ', 1)[-1]\n",
    "                dirHandler.make_directory(directory_name)\n",
    "\n",
    "            elif cmd.startswith('remove_directory'):\n",
    "                directory_name = cmd.split(' ', 1)[-1]\n",
    "                dirHandler.remove_directory(directory_name)\n",
    "\n",
    "            elif cmd.startswith('switch_directory'):\n",
    "                directory_name = cmd.split(' ', 1)[-1]\n",
    "                dirHandler.switch_directory(directory_name)\n",
    "\n",
    "            elif cmd.startswith('generate_file'):\n",
    "                file_name = cmd.split(' ', 1)[-1]\n",
    "                dirHandler.generate_file(file_name)\n",
    "\n",
    "            elif cmd.startswith('read_from_file'):\n",
    "                file_name = cmd.split(' ', 1)[-1]\n",
    "                dirHandler.read_from_file(file_name)\n",
    "\n",
    "            elif cmd.startswith('write_to_file'):\n",
    "                file_name, text_data = cmd.split(maxsplit=2)[1:]\n",
    "                dirHandler.write_to_file(file_name, text_data)\n",
    "\n",
    "            elif cmd.startswith('copy_file'):\n",
    "                source_name, destination_name = cmd.split(maxsplit=2)[1:]\n",
    "                dirHandler.copy_file(source_name, destination_name)\n",
    "\n",
    "            elif cmd.startswith('move_file'):\n",
    "                source_name, destination_name = cmd.split(maxsplit=2)[1:]\n",
    "                dirHandler.move_file(source_name, destination_name)\n",
    "\n",
    "            elif cmd.startswith('rename_file'):\n",
    "                old_name, new_name = cmd.split(maxsplit=2)[1:]\n",
    "                dirHandler.rename_file(old_name, new_name)\n",
    "\n",
    "            elif cmd == 'exit':\n",
    "                print(\"Выход из программы\")\n",
    "                break\n",
    "\n",
    "            else:\n",
    "                print(\"Неправильная команда. Напишите 'help', чтобы увидеть список команд\")"
   ]
  },
  {
   "cell_type": "code",
   "execution_count": null,
   "id": "064d660c-d106-4f4f-8d22-97614f657018",
   "metadata": {},
   "outputs": [],
   "source": []
  }
 ],
 "metadata": {
  "kernelspec": {
   "display_name": "Python 3 (ipykernel)",
   "language": "python",
   "name": "python3"
  },
  "language_info": {
   "codemirror_mode": {
    "name": "ipython",
    "version": 3
   },
   "file_extension": ".py",
   "mimetype": "text/x-python",
   "name": "python",
   "nbconvert_exporter": "python",
   "pygments_lexer": "ipython3",
   "version": "3.11.7"
  }
 },
 "nbformat": 4,
 "nbformat_minor": 5
}
